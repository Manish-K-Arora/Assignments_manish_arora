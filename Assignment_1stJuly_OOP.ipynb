{
 "cells": [
  {
   "cell_type": "markdown",
   "id": "29c0da13",
   "metadata": {},
   "source": [
    "# 1. What is the primary goal of Object-Oriented Programming (OOP)?\n"
   ]
  },
  {
   "cell_type": "markdown",
   "id": "a253a8cd",
   "metadata": {},
   "source": [
    "The primary goal of the OOP is to hold the entire data into a single object such that it would be easy to pass this to other methods and objects. It makes the code more reusable and easier to work with larger program"
   ]
  },
  {
   "cell_type": "markdown",
   "id": "0d89e625",
   "metadata": {},
   "source": [
    "# 2. What is an object in Python?"
   ]
  },
  {
   "cell_type": "markdown",
   "id": "d01d23c9",
   "metadata": {},
   "source": [
    "An object is an instance of a class. A class is a blueprint while an instance is a copy of the class with actual values. \n",
    "Elements such as strings, dictionaries, numbers etc. will be an object of some corresponding built-in class(int,str). "
   ]
  },
  {
   "cell_type": "markdown",
   "id": "1d2da8a4",
   "metadata": {},
   "source": [
    "# 3. What is a class in Python?\n"
   ]
  },
  {
   "cell_type": "markdown",
   "id": "14157383",
   "metadata": {},
   "source": [
    "Class is created by the keyword class. Class is a blueprint that defines some properties and behaviors. Classes provide a means to bind data and functionality together. "
   ]
  },
  {
   "cell_type": "code",
   "execution_count": 6,
   "id": "d507ad68",
   "metadata": {},
   "outputs": [],
   "source": [
    "#Syntax of a class is as follow:\n",
    "class ClassName:\n",
    "    #class definition\n",
    "    pass"
   ]
  },
  {
   "cell_type": "markdown",
   "id": "4c2785dd",
   "metadata": {},
   "source": [
    "# 4. What are attributes and methods in a class?\n"
   ]
  },
  {
   "cell_type": "markdown",
   "id": "50804200",
   "metadata": {},
   "source": [
    "Variables inside a class are called attributes. \n",
    "Syntax of class:\n",
    "class Bike: \n",
    "    name = \"\"\n",
    "    gear = 0\n",
    "\n",
    "Here, Bike is the name of the class and variables \"name and gear\" also called attributes of class. \n",
    "That means, it contains some information about class properties or characteristics. \n",
    "\n",
    "Methods - Python function defined inside a class is called method. \n",
    "\n"
   ]
  },
  {
   "cell_type": "code",
   "execution_count": 11,
   "id": "3b83df80",
   "metadata": {},
   "outputs": [
    {
     "name": "stdout",
     "output_type": "stream",
     "text": [
      "Subject: Professor Mann teachhes Maths\n"
     ]
    }
   ],
   "source": [
    "#Example\n",
    "\n",
    "#class \n",
    "class Teacher:\n",
    "    #constructor\n",
    "    def __init__(self,name,subject):\n",
    "        #instance variables\n",
    "        self.name = name\n",
    "        self.subject=subject\n",
    "    #instance method of a class\n",
    "    def display_info(self):\n",
    "        print(f\"Subject: Professor {self.name} teachhes {self.subject}\")\n",
    "        \n",
    "#creating object of class Teacher\n",
    "t1 = Teacher(\"Mann\", \"Maths\")\n",
    "\n",
    "#calling class method\n",
    "t1.display_info()"
   ]
  },
  {
   "cell_type": "markdown",
   "id": "36843803",
   "metadata": {},
   "source": [
    "# 5. What is the difference between class variables and instance variables in Python?\n"
   ]
  },
  {
   "cell_type": "markdown",
   "id": "14579173",
   "metadata": {},
   "source": [
    "Class variables are the attributes that are shared by all the instances of a class. Whereas, Instance variables are unique to each instances. Means any changes made to the class variables affect all the instances and changes made to the instance variables does not affect all instances."
   ]
  },
  {
   "cell_type": "code",
   "execution_count": 18,
   "id": "4992abf1",
   "metadata": {},
   "outputs": [
    {
     "name": "stdout",
     "output_type": "stream",
     "text": [
      "labra\n",
      "labra\n",
      "Scooby\n",
      "Dixcy\n"
     ]
    }
   ],
   "source": [
    "# Example:\n",
    "class Dog:\n",
    "\n",
    "    # class variable shared by all instances\n",
    "    kind = 'labra'      \n",
    "    \n",
    "    def __init__(self, name):\n",
    "        # instance variable unique to each instance\n",
    "        self.name = name    \n",
    "\n",
    "s = Dog('Scooby')\n",
    "d = Dog('Dixcy')\n",
    "\n",
    "print(s.kind)                  # shared by all dogs\n",
    "print(d.kind)                  # shared by all dogs\n",
    "\n",
    "print(s.name)                 # unique to d\n",
    "print(d.name)                  # unique to e"
   ]
  },
  {
   "cell_type": "markdown",
   "id": "cf1d738a",
   "metadata": {},
   "source": [
    "# 6. What is the purpose of the self parameter in Python class methods?\n"
   ]
  },
  {
   "cell_type": "markdown",
   "id": "f9ac3fe1",
   "metadata": {},
   "source": [
    "It is a reference to the current instance of the class, and is used to access variables that belongs to that class. \n",
    "Means, that it is used to access and manipulate the instance variables and methods within a class. Without \"self\" it would be difficult to differntiate between instance variables and class variables or methods. \n"
   ]
  },
  {
   "cell_type": "markdown",
   "id": "77b2fa9b",
   "metadata": {},
   "source": [
    "# 7. For a library management system, you have to design the \"Book\" class with OOP principles in mind. \n",
    "#  The “Book” class will have following attributes: \n",
    "a. title: Represents the title of the book.\n",
    "\n",
    "b. author: Represents the author(s) of the book.\n",
    "\n",
    "c. isbn: Represents the ISBN (International Standard Book Number) of the book.\n",
    "\n",
    "d. publication_year: Represents the year of publication of the book.\n",
    "\n",
    "e. available_copies: Represents the number of copies available for checkout.\n",
    "\n",
    "# The class will also include the following methods:\n",
    "a. check_out(self): Decrements the available copies by one if there are copies\n",
    "available for checkout.\n",
    "\n",
    "b. return_book(self): Increments the available copies by one when a book is\n",
    "returned.\n",
    "\n",
    "c. display_book_info(self): Displays the information about the book, including its\n",
    "attributes and the number of available copies\n"
   ]
  },
  {
   "cell_type": "code",
   "execution_count": 83,
   "id": "d1c05a5a",
   "metadata": {},
   "outputs": [
    {
     "name": "stdout",
     "output_type": "stream",
     "text": [
      "Book Details before check out: \n",
      "Book Details - \n",
      "Title: Wings Of Fire \n",
      "Author:APJ Abdul Kalam \n",
      "ISBN: 12345 \n",
      "Publication Year: 1990 \n",
      "Available Copies: 100\n",
      "Enter the number of copies you want: 34\n",
      "Please collect your book from counter. Happy Reading!\n",
      "Book Details after check out: \n",
      "Book Details - \n",
      "Title: Wings Of Fire \n",
      "Author:APJ Abdul Kalam \n",
      "ISBN: 12345 \n",
      "Publication Year: 1990 \n",
      "Available Copies: 66\n",
      "How many copies you want to return for the book Wings Of Fire : 30\n",
      "Book Details after return\n",
      "Book Details - \n",
      "Title: Wings Of Fire \n",
      "Author:APJ Abdul Kalam \n",
      "ISBN: 12345 \n",
      "Publication Year: 1990 \n",
      "Available Copies: 96\n"
     ]
    }
   ],
   "source": [
    "class Book:\n",
    "    available_copies = 100\n",
    "    #constructor\n",
    "    def __init__(self, title, author, isbn,publication_year):\n",
    "        self.title = title\n",
    "        self.author = author\n",
    "        self.isbn = isbn\n",
    "        self.publication_year = publication_year\n",
    "   \n",
    "    \"\"\"Decrements the available copies by one if there are copies available for checkout.\"\"\"\n",
    "    def check_out(self):\n",
    "        available_c = int(input(\"Enter the number of copies you want: \"))\n",
    "        if self.available_copies >= 0:\n",
    "            print(\"Please collect your book from counter. Happy Reading!\")\n",
    "            self.available_copies -= available_c\n",
    "            return True\n",
    "        else:\n",
    "            print(\"Sorry no more copies available\")\n",
    "            return False\n",
    "        \n",
    "    \"\"\"Increments the available copies by one when a book is returned.\"\"\"    \n",
    "    def return_book(self):\n",
    "        return_book_copies = int(input(f\"How many copies you want to return for the book {self.title} : \"))\n",
    "        self.available_copies +=return_book_copies\n",
    "        return True\n",
    "    \n",
    "    \"\"\"Displays the information about the book, including its attributes and the number of available copies\"\"\"\n",
    "    def display_book_info(self):\n",
    "        print(f\"Book Details - \\nTitle: {self.title} \\nAuthor:{self.author} \\nISBN: {self.isbn} \\nPublication Year: {self.publication_year} \\nAvailable Copies: {self.available_copies}\")\n",
    "        \n",
    "              \n",
    "b1 = Book(\"Wings Of Fire\", \"APJ Abdul Kalam\", 12345, 1990)\n",
    "\n",
    "print(\"Book Details before check out: \")\n",
    "b1.display_book_info()\n",
    "\n",
    "#calling check_out() method\n",
    "b1.check_out()\n",
    "\n",
    "print(\"Book Details after check out: \")\n",
    "b1.display_book_info()\n",
    "\n",
    "#callin return_book() method\n",
    "b1.return_book()\n",
    "\n",
    "print(\"Book Details after return\")\n",
    "b1.display_book_info()"
   ]
  },
  {
   "cell_type": "markdown",
   "id": "4447ce89",
   "metadata": {},
   "source": [
    "#   8. For a ticket booking system, you have to design the \"Ticket\" class with OOP principles in mind. \n",
    "\n",
    "# The “Ticket” class should have the following attributes:\n",
    "\n",
    "a. ticket_id: Represents the unique identifier for the ticket.\n",
    "\n",
    "b. event_name: Represents the name of the event.\n",
    "\n",
    "c. event_date: Represents the date of the event.\n",
    "\n",
    "d. venue: Represents the venue of the event.\n",
    "\n",
    "e. seat_number: Represents the seat number associated with the ticket.\n",
    "\n",
    "f. price: Represents the price of the ticket.\n",
    "\n",
    "g. is_reserved: Represents the reservation status of the ticket.\n",
    "\n",
    "# The class also includes the following methods:\n",
    "\n",
    "a. reserve_ticket(self): Marks the ticket as reserved if it is not already reserved.\n",
    "\n",
    "b. cancel_reservation(self): Cancels the reservation of the ticket if it is already\n",
    "reserved.\n",
    "\n",
    "c. display_ticket_info(self): Displays the information about the ticket, including its attributes and reservation status."
   ]
  },
  {
   "cell_type": "code",
   "execution_count": 19,
   "id": "e9c2c215",
   "metadata": {
    "scrolled": true
   },
   "outputs": [
    {
     "name": "stdout",
     "output_type": "stream",
     "text": [
      "Ticket Info - \n",
      "Title Number: 1234 \n",
      "Event:Jalsa \n",
      "Date: 12.2.2024 \n",
      "Seat Number: 2 \n",
      "Price: Rs. 200\n",
      "Reservation Status: Not Reserved\n",
      "\n",
      "Do you want to book the ticket: Yes/No- Yes\n",
      "Congrats Ticket 1234 has been reserved with Seat Number 2\n",
      "\n",
      "Ticket Info after reservation: \n",
      "Ticket Info - \n",
      "Title Number: 1234 \n",
      "Event:Jalsa \n",
      "Date: 12.2.2024 \n",
      "Seat Number: 2 \n",
      "Price: Rs. 200\n",
      "Reservation Status: Reserved\n",
      "\n",
      "Trying to reserve the same ticket again..\n",
      "\n",
      "Sorry this ticket 1234 is already booked.\n",
      "\n",
      "Trying to Cancel the same ticket ...\n",
      "\n",
      "Ticket 1234 has been canceled now.\n",
      "\n",
      "Ticket Info after cancelation: \n",
      "\n",
      "Ticket Info - \n",
      "Title Number: 1234 \n",
      "Event:Jalsa \n",
      "Date: 12.2.2024 \n",
      "Seat Number: 2 \n",
      "Price: Rs. 200\n",
      "Reservation Status: Not Reserved\n",
      "\n",
      "Trying to cancel the unreserved ticket..\n",
      "Ticket 4321 is not reserved.\n",
      "\n"
     ]
    }
   ],
   "source": [
    "class Ticket:\n",
    "    \n",
    "    def __init__(self, ticket_id,event_name,event_date,venue,seat_number,price):\n",
    "        self.ticket_id = ticket_id\n",
    "        self.event_name = event_name\n",
    "        self.event_date = event_date\n",
    "        self.venue = venue\n",
    "        self.seat_number = seat_number\n",
    "        self.price = price\n",
    "        \n",
    "        self.is_reserved = False # initial as ticket is not reserved so marked them as false.\n",
    "    \n",
    "    def display_ticket_info(self):\n",
    "        print(f\"Ticket Info - \\nTitle Number: {self.ticket_id} \\nEvent:{self.event_name} \\nDate: {self.event_date} \\nSeat Number: {self.seat_number} \\nPrice: Rs. {self.price}\")\n",
    "        if self.is_reserved:\n",
    "            print(\"Reservation Status: Reserved\\n\")\n",
    "        else: \n",
    "            print(\"Reservation Status: Not Reserved\\n\")\n",
    "        \n",
    "    def reserve_ticket(self):\n",
    "        if not self.is_reserved:\n",
    "            print(f\"Congrats Ticket {self.ticket_id} has been reserved with Seat Number {self.seat_number}\\n\")\n",
    "            self.is_reserved = True\n",
    "        else:\n",
    "            print(f\"Sorry this ticket {self.ticket_id} is already booked.\\n\")\n",
    "\n",
    "                \n",
    "            \n",
    "    def cancel_reservation(self):\n",
    "        if self.is_reserved:\n",
    "            print(f\"Ticket {self.ticket_id} has been canceled now.\\n\")\n",
    "            self.is_reserved = False\n",
    "        else:\n",
    "            print(f\"Ticket {self.ticket_id} is not reserved.\\n\")\n",
    "                    \n",
    "           \n",
    "\n",
    "\n",
    "        \n",
    "t1 = Ticket(1234,\"Jalsa\",'12.2.2024',\"Gurugram\",2,200)\n",
    "\n",
    "\n",
    "\n",
    "t1.display_ticket_info()\n",
    "\n",
    "choice = (input(\"Do you want to book the ticket: Yes/No- \"))\n",
    "while choice == \"Yes\":\n",
    "    t1.reserve_ticket()\n",
    "    print(\"Ticket Info after reservation: \")\n",
    "    t1.display_ticket_info()\n",
    "    break\n",
    "else:\n",
    "    print(\"See you again...\")\n",
    "\n",
    "\n",
    "\n",
    "# #trying to book the already reserved ticket.\n",
    "print(\"Trying to reserve the same ticket again..\\n\")\n",
    "t1.reserve_ticket()\n",
    "\n",
    "#trying to book the cancel reserved ticket.\n",
    "print(\"Trying to Cancel the same ticket ...\\n\")\n",
    "t1.cancel_reservation()\n",
    "print(\"Ticket Info after cancelation: \\n\")\n",
    "t1.display_ticket_info()\n",
    "\n",
    "\n",
    "    \n",
    "print(\"Trying to cancel the unreserved ticket..\")\n",
    "t2 = Ticket(4321,\"Jalsa\",'12.2.2024',\"Gurugram\",3,200)\n",
    "t2.cancel_reservation()"
   ]
  },
  {
   "cell_type": "markdown",
   "id": "ce1b9893",
   "metadata": {},
   "source": [
    "# 9. You are creating a shopping cart for an e-commerce website. Using OOP to model the \"ShoppingCart\" functionality the class should contain following attributes and methods:\n",
    "\n",
    "a. items: Represents the list of items in the shopping cart.\n",
    "\n",
    "# The class also includes the following methods:\n",
    "\n",
    "a. add_item(self, item): Adds an item to the shopping cart by appending it to the\n",
    "list of items.\n",
    "\n",
    "b. remove_item(self, item): Removes an item from the shopping cart if it exists in\n",
    "the list.\n",
    "\n",
    "c. view_cart(self): Displays the items currently present in the shopping cart.\n",
    "\n",
    "d. clear_cart(self): Clears all items from the shopping cart by reassigning an\n",
    "empty list to the items attribute"
   ]
  },
  {
   "cell_type": "code",
   "execution_count": 13,
   "id": "2a4af7e4",
   "metadata": {},
   "outputs": [
    {
     "name": "stdout",
     "output_type": "stream",
     "text": [
      "Before adding any item in the list...\n",
      "Sorry the shopping cart is empty.\n",
      "Item- Pampers is now added to the list.\n",
      "Item- Baby Wipes is now added to the list.\n",
      "Item- Dark Chocolate is now added to the list.\n",
      "-----------\n",
      "After adding items in the list: \n",
      "\n",
      "Items currently present in the shopping cart: \n",
      "\n",
      " *Pampers\n",
      " *Baby Wipes\n",
      " *Dark Chocolate\n",
      "-----------\n",
      "Item - Baby Wipes has been removed from your list.\n",
      "-----------\n",
      "After removing items in the list: \n",
      "\n",
      "Items currently present in the shopping cart: \n",
      "\n",
      " *Pampers\n",
      " *Dark Chocolate\n",
      "-----------\n",
      "List is cleared.\n",
      "Sorry the shopping cart is empty.\n"
     ]
    }
   ],
   "source": [
    "class ShoppingCart:\n",
    "    def __init__(self):\n",
    "        self.items = [] # empty list \n",
    "        \n",
    "    def add_item(self,item):\n",
    "        self.items.append(item) # add item in list \"items\" by appending. \n",
    "        print(f\"Item- {item} is now added to the list.\")\n",
    "              \n",
    "    def remove_item(self,item):\n",
    "        if item in self.items:\n",
    "              self.items.remove(item)\n",
    "              print(f\"Item - {item} has been removed from your list.\")\n",
    "        else:\n",
    "                    print(f\"Item - {item} is not present in the list.\")\n",
    "                          \n",
    "    def view_cart(self): \n",
    "        if self.items:\n",
    "            print(\"Items currently present in the shopping cart: \\n\")\n",
    "            for item in self.items:\n",
    "                print(f\" *{item}\")\n",
    "        else:\n",
    "            print(\"Sorry the shopping cart is empty.\")\n",
    "            \n",
    "    def clear_cart(self):\n",
    "        self.items = []\n",
    "        print(\"List is cleared.\")\n",
    "        \n",
    "sc = ShoppingCart()\n",
    "\n",
    "print(\"Before adding any item in the list...\")\n",
    "sc.view_cart()\n",
    "sc.add_item(\"Pampers\")\n",
    "sc.add_item(\"Baby Wipes\")\n",
    "sc.add_item(\"Dark Chocolate\")\n",
    "print(\"-----------\")\n",
    "print(\"After adding items in the list: \\n\")\n",
    "sc.view_cart()\n",
    "print(\"-----------\")\n",
    "sc.remove_item(\"Baby Wipes\") # removes item \"Baby Wipes\" from the list. \n",
    "print(\"-----------\")\n",
    "print(\"After removing items in the list: \\n\")\n",
    "sc.view_cart()\n",
    "print(\"-----------\")\n",
    "sc.clear_cart()\n",
    "sc.view_cart()"
   ]
  },
  {
   "cell_type": "markdown",
   "id": "cf485a3c",
   "metadata": {},
   "source": [
    "# 10. Imagine a school management system. You have to design the \"Student\" class using OOP concepts.The “Student” class has the following attributes:\n",
    "\n",
    "a. name: Represents the name of the student.\n",
    "\n",
    "b. age: Represents the age of the student.\n",
    "\n",
    "c. grade: Represents the grade or class of the student.\n",
    "\n",
    "d. student_id: Represents the unique identifier for the student.\n",
    "\n",
    "e. attendance: Represents the attendance record of the student.\n",
    "\n",
    "# The class should also include the following methods:\n",
    "\n",
    "a. update_attendance(self, date, status): Updates the attendance record of the\n",
    "student for a given date with the provided status (e.g., present or absent).\n",
    "\n",
    "b. get_attendance(self): Returns the attendance record of the student.\n",
    "\n",
    "c. get_average_attendance(self): Calculates and returns the average\n",
    "attendance percentage of the student based on their attendance record."
   ]
  },
  {
   "cell_type": "code",
   "execution_count": 17,
   "id": "7fd4f0a3",
   "metadata": {},
   "outputs": [
    {
     "name": "stdout",
     "output_type": "stream",
     "text": [
      "Student detials:\n",
      " Name - Manish\n",
      " Grade - 12\n",
      " Student_ID - 12345\n",
      "--------\n",
      "Attendace on 2024-02-15: present\n",
      "Attendace on 2024-02-16: present\n",
      "Attendace on 2024-02-17: absent\n",
      "Attendace on 2024-02-18: present\n",
      "Attendace on 2024-02-19: absent\n",
      "Attendace for Student- Manish is as follows:\n",
      "2024-02-15 - present\n",
      "2024-02-16 - present\n",
      "2024-02-17 - absent\n",
      "2024-02-18 - present\n",
      "2024-02-19 - absent\n",
      "Average Attendance is 60.00%\n"
     ]
    }
   ],
   "source": [
    "class Student:\n",
    "    \n",
    "    def __init__(self,name,age,grade,student_id):\n",
    "        self.name = name\n",
    "        self.age = age\n",
    "        self.grade = grade\n",
    "        self.student_id = student_id\n",
    "        self.attendance = {} \n",
    "        \n",
    "    def display_studentInfo(self):\n",
    "        print(\"Student detials:\")\n",
    "        print(f\" Name - {self.name}\\n Grade - {self.grade}\\n Student_ID - {self.student_id}\")\n",
    "              \n",
    "        \n",
    "    def update_attendance(self, date, status):\n",
    "        if status in ('present', 'absent'):\n",
    "            self.attendance[date] = status\n",
    "            print(f\"Attendace on {date}: {status}\")\n",
    "        else:\n",
    "            print(\"Not correct status - Please mention 'present' or 'absent'\")\n",
    "            \n",
    "    def get_attendance(self):\n",
    "        return self.attendance\n",
    "        \n",
    "    def get_average_attendance(self):\n",
    "        days = len(self.attendance)\n",
    "        days_present = sum(1 for status in self.attendance.values() if status == 'present')        \n",
    "        if days > 0:\n",
    "            average_attendance = (days_present/days) * 100\n",
    "            return average_attendance\n",
    "        else:\n",
    "            return 0.0\n",
    "            \n",
    "s1 = Student(\"Manish\",17,12,12345)\n",
    "s1.display_studentInfo()\n",
    "print(\"--------\")\n",
    "s1.update_attendance(date=\"2024-02-15\", status=\"present\")\n",
    "s1.update_attendance(date=\"2024-02-16\", status=\"present\")\n",
    "s1.update_attendance(date=\"2024-02-17\", status=\"absent\")\n",
    "s1.update_attendance(date=\"2024-02-18\", status=\"present\")\n",
    "s1.update_attendance(date=\"2024-02-19\", status=\"absent\")\n",
    "\n",
    "print(f\"Attendace for Student- {s1.name} is as follows:\")\n",
    "\n",
    "for date, status in s1.get_attendance().items():\n",
    "    print(f\"{date} - {status}\")\n",
    "    \n",
    "average_attendance = s1.get_average_attendance()\n",
    "print(f\"Average Attendance is {average_attendance:.2f}%\")\n"
   ]
  },
  {
   "cell_type": "code",
   "execution_count": null,
   "id": "eb1f7ff3",
   "metadata": {},
   "outputs": [],
   "source": []
  }
 ],
 "metadata": {
  "kernelspec": {
   "display_name": "Python 3 (ipykernel)",
   "language": "python",
   "name": "python3"
  },
  "language_info": {
   "codemirror_mode": {
    "name": "ipython",
    "version": 3
   },
   "file_extension": ".py",
   "mimetype": "text/x-python",
   "name": "python",
   "nbconvert_exporter": "python",
   "pygments_lexer": "ipython3",
   "version": "3.10.8"
  }
 },
 "nbformat": 4,
 "nbformat_minor": 5
}
